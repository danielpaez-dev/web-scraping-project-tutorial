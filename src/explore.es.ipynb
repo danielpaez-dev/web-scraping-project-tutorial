{
    "cells": [
        {
            "cell_type": "markdown",
            "metadata": {},
            "source": [
                "# Explora aquí\n",
                "\n",
                "Se recomienda utilizar este cuaderno con fines de exploración."
            ]
        },
        {
            "cell_type": "markdown",
            "metadata": {},
            "source": [
                "# Paso 1: Instalación de dependencias"
            ]
        },
        {
            "cell_type": "code",
            "execution_count": 12,
            "metadata": {},
            "outputs": [],
            "source": [
                "import os\n",
                "from bs4 import BeautifulSoup\n",
                "import requests\n",
                "import time\n",
                "import sqlite3\n",
                "import pandas as pd\n",
                "import matplotlib.pyplot as plt\n",
                "import seaborn as sns\n",
                "import io\n",
                "import lxml\n",
                "import html5lib"
            ]
        },
        {
            "cell_type": "markdown",
            "metadata": {},
            "source": [
                "# Paso 2: Descargar HTML"
            ]
        },
        {
            "cell_type": "code",
            "execution_count": 13,
            "metadata": {},
            "outputs": [],
            "source": [
                "resource_url = 'https://en.wikipedia.org/wiki/List_of_Spotify_streaming_records'\n",
                "response = requests.get(resource_url)"
            ]
        },
        {
            "cell_type": "markdown",
            "metadata": {},
            "source": [
                "# Paso 3: Transformar el HTML"
            ]
        },
        {
            "cell_type": "code",
            "execution_count": 14,
            "metadata": {},
            "outputs": [
                {
                    "name": "stdout",
                    "output_type": "stream",
                    "text": [
                        "                   Rank                    Song  \\\n",
                        "0                     1       \"Blinding Lights\"   \n",
                        "1                     2          \"Shape of You\"   \n",
                        "2                     3               \"Starboy\"   \n",
                        "3                     4     \"Someone You Loved\"   \n",
                        "4                     5             \"As It Was\"   \n",
                        "..                  ...                     ...   \n",
                        "96                   97      \"Someone Like You\"   \n",
                        "97                   98  \"Too Good At Goodbyes\"   \n",
                        "98                   99          \"Stay with Me\"   \n",
                        "99                  100                \"Havana\"   \n",
                        "100  As of 19 June 2025      As of 19 June 2025   \n",
                        "\n",
                        "                         Artist(s)  Streams (billions)        Release date  \\\n",
                        "0                       The Weeknd               4.887    29 November 2019   \n",
                        "1                       Ed Sheeran               4.411      6 January 2017   \n",
                        "2         The Weeknd and Daft Punk               3.946   21 September 2016   \n",
                        "3                    Lewis Capaldi               3.940     8 November 2018   \n",
                        "4                     Harry Styles               3.926        1 April 2022   \n",
                        "..                             ...                 ...                 ...   \n",
                        "96                           Adele               2.323     24 January 2011   \n",
                        "97                       Sam Smith               2.322    8 September 2017   \n",
                        "98                       Sam Smith               2.313       14 April 2014   \n",
                        "99   Camila Cabello and Young Thug               2.302       3 August 2017   \n",
                        "100             As of 19 June 2025  As of 19 June 2025  As of 19 June 2025   \n",
                        "\n",
                        "                   Ref.  \n",
                        "0                   [2]  \n",
                        "1                   [3]  \n",
                        "2                   [4]  \n",
                        "3                   [5]  \n",
                        "4                   [6]  \n",
                        "..                  ...  \n",
                        "96                 [97]  \n",
                        "97                 [98]  \n",
                        "98                 [99]  \n",
                        "99                [100]  \n",
                        "100  As of 19 June 2025  \n",
                        "\n",
                        "[101 rows x 6 columns]\n"
                    ]
                }
            ],
            "source": [
                "\n",
                "if response.status_code == 200:\n",
                "    html_io = io.StringIO(response.text)\n",
                "    df = pd.read_html(html_io)[0]\n",
                "    print(df)\n"
            ]
        },
        {
            "cell_type": "markdown",
            "metadata": {},
            "source": [
                "# Paso 4: Procesa el DataFrame"
            ]
        },
        {
            "cell_type": "code",
            "execution_count": 15,
            "metadata": {},
            "outputs": [
                {
                    "name": "stdout",
                    "output_type": "stream",
                    "text": [
                        "                   Rank                    Song  \\\n",
                        "0                     1       \"Blinding Lights\"   \n",
                        "1                     2          \"Shape of You\"   \n",
                        "2                     3               \"Starboy\"   \n",
                        "3                     4     \"Someone You Loved\"   \n",
                        "4                     5             \"As It Was\"   \n",
                        "..                  ...                     ...   \n",
                        "96                   97      \"Someone Like You\"   \n",
                        "97                   98  \"Too Good At Goodbyes\"   \n",
                        "98                   99          \"Stay with Me\"   \n",
                        "99                  100                \"Havana\"   \n",
                        "100  As of 19 June 2025      As of 19 June 2025   \n",
                        "\n",
                        "                         Artist(s)  Streams (billions)        Release date  \\\n",
                        "0                       The Weeknd               4.887    29 November 2019   \n",
                        "1                       Ed Sheeran               4.411      6 January 2017   \n",
                        "2         The Weeknd and Daft Punk               3.946   21 September 2016   \n",
                        "3                    Lewis Capaldi               3.940     8 November 2018   \n",
                        "4                     Harry Styles               3.926        1 April 2022   \n",
                        "..                             ...                 ...                 ...   \n",
                        "96                           Adele               2.323     24 January 2011   \n",
                        "97                       Sam Smith               2.322    8 September 2017   \n",
                        "98                       Sam Smith               2.313       14 April 2014   \n",
                        "99   Camila Cabello and Young Thug               2.302       3 August 2017   \n",
                        "100             As of 19 June 2025  As of 19 June 2025  As of 19 June 2025   \n",
                        "\n",
                        "                   Ref.  \n",
                        "0                   [2]  \n",
                        "1                   [3]  \n",
                        "2                   [4]  \n",
                        "3                   [5]  \n",
                        "4                   [6]  \n",
                        "..                  ...  \n",
                        "96                 [97]  \n",
                        "97                 [98]  \n",
                        "98                 [99]  \n",
                        "99                [100]  \n",
                        "100  As of 19 June 2025  \n",
                        "\n",
                        "[100 rows x 6 columns]\n"
                    ]
                }
            ],
            "source": [
                "if response.status_code == 200:\n",
                "    df.dropna(inplace=True)\n",
                "    print(df)\n"
            ]
        },
        {
            "cell_type": "markdown",
            "metadata": {},
            "source": [
                "# Paso 5: Almacena los datos en SQLite"
            ]
        },
        {
            "cell_type": "code",
            "execution_count": null,
            "metadata": {},
            "outputs": [],
            "source": []
        },
        {
            "cell_type": "markdown",
            "metadata": {},
            "source": [
                "# Paso 6: Visualiza los datos"
            ]
        }
    ],
    "metadata": {
        "kernelspec": {
            "display_name": "Python 3",
            "language": "python",
            "name": "python3"
        },
        "language_info": {
            "codemirror_mode": {
                "name": "ipython",
                "version": 3
            },
            "file_extension": ".py",
            "mimetype": "text/x-python",
            "name": "python",
            "nbconvert_exporter": "python",
            "pygments_lexer": "ipython3",
            "version": "3.11.4"
        },
        "orig_nbformat": 4
    },
    "nbformat": 4,
    "nbformat_minor": 2
}
